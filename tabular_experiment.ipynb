{
 "cells": [
  {
   "cell_type": "code",
   "execution_count": null,
   "metadata": {},
   "outputs": [],
   "source": [
    "import time\n",
    "import json\n",
    "import os\n",
    "\n",
    "from synthcity.plugins.core.dataloader import GenericDataLoader\n",
    "from synthcity.plugins import Plugins\n",
    "from synthcity.utils.reproducibility import enable_reproducible_results\n",
    "import openml\n",
    "from sklearn.model_selection import KFold\n",
    "\n",
    "from metrics import evaluate"
   ]
  },
  {
   "cell_type": "code",
   "execution_count": null,
   "metadata": {},
   "outputs": [],
   "source": [
    "\n",
    "# ---------------------------------\n",
    "# BENCHMARK PARAMETERS\n",
    "\n",
    "generator = \"arf\"\n",
    "metrics = [\n",
    "    \"mmd\",\n",
    "    \"wasserstein\",\n",
    "    \"precision-recall\",\n",
    "    \"authenticity\",\n",
    "    # \"domias\"\n",
    "]\n",
    "cv_folds = 2\n",
    "n_init = 1\n",
    "seed = 0\n",
    "enable_reproducible_results(seed)\n",
    "hparams = {}\n",
    "results = {}\n"
   ]
  },
  {
   "cell_type": "code",
   "execution_count": null,
   "metadata": {},
   "outputs": [],
   "source": [
    "# load data\n",
    "dataset = openml.datasets.get_dataset(\"Diabetes130US\")\n",
    "X, _, _, _ = dataset.get_data(dataset_format=\"dataframe\")\n",
    "X = X.drop([\"encounter_id\", \"patient_nbr\"], axis=1)\n",
    "\n",
    "X = X[:1000]"
   ]
  },
  {
   "cell_type": "code",
   "execution_count": null,
   "metadata": {},
   "outputs": [],
   "source": [
    "# ---------------------------------\n",
    "# START BENCHMARKING\n",
    "\n",
    "# perform k fold CV\n",
    "time_start = time.perf_counter()\n",
    "for fold, (train, test) in enumerate(\n",
    "    KFold(n_splits=cv_folds, shuffle=True, random_state=seed).split(X)\n",
    "):\n",
    "    print(f\"fold: {fold}\")\n",
    "    results[fold] = {}\n",
    "    # get train-test data\n",
    "    X_train = GenericDataLoader(data=X.iloc[train])\n",
    "    X_test = GenericDataLoader(data=X.iloc[test])\n",
    "\n",
    "    # synthesize for multiple initializations\n",
    "    for i in range(n_init):\n",
    "        hparams[\"random_state\"] = i\n",
    "        plugin = Plugins().get(generator, **hparams)\n",
    "        # unconditional generation (we do not consider a specific target feature)\n",
    "        plugin.fit(X_train)\n",
    "        X_syn = plugin.generate(len(test))\n",
    "        # evaluation\n",
    "        results[fold][i] = evaluate(\n",
    "            X_train.dataframe(),\n",
    "            X_test.dataframe(),\n",
    "            X_syn.dataframe(),\n",
    "            metrics,\n",
    "            random_state=seed,  # we use the same random state for metrics across initializations\n",
    "        )\n",
    "time_end = time.perf_counter()\n",
    "results[\"timer\"] = time_end - time_start\n",
    "# save results\n",
    "if not os.path.exists(\"results\"):\n",
    "    os.makedirs(\"results\")\n",
    "with open(f\"results/{generator}.json\", \"w\") as f:\n",
    "    json.dump(results, f, indent=4)"
   ]
  }
 ],
 "metadata": {
  "kernelspec": {
   "display_name": "Python 3",
   "language": "python",
   "name": "python3"
  },
  "language_info": {
   "name": "python",
   "version": "3.10.16"
  }
 },
 "nbformat": 4,
 "nbformat_minor": 2
}
