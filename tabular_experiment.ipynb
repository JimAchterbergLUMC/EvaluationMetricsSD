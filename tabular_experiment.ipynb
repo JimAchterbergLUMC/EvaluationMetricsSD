{
 "cells": [
  {
   "cell_type": "code",
   "execution_count": 1,
   "metadata": {},
   "outputs": [
    {
     "name": "stderr",
     "output_type": "stream",
     "text": [
      "c:\\Users\\jlachterberg\\Documents\\EvaluationMetricsSD\\EvaluationMetricsSD\\.conda\\lib\\site-packages\\tqdm\\auto.py:21: TqdmWarning: IProgress not found. Please update jupyter and ipywidgets. See https://ipywidgets.readthedocs.io/en/stable/user_install.html\n",
      "  from .autonotebook import tqdm as notebook_tqdm\n"
     ]
    },
    {
     "name": "stdout",
     "output_type": "stream",
     "text": [
      "[KeOps] Warning : \n",
      "    The default C++ compiler could not be found on your system.\n",
      "    You need to either define the CXX environment variable or a symlink to the g++ command.\n",
      "    For example if g++-8 is the command you can do\n",
      "      import os\n",
      "      os.environ['CXX'] = 'g++-8'\n",
      "    \n",
      "[KeOps] Warning : Cuda libraries were not detected on the system or could not be loaded ; using cpu only mode\n"
     ]
    }
   ],
   "source": [
    "import time\n",
    "import json\n",
    "import os\n",
    "\n",
    "from synthcity.plugins.core.dataloader import GenericDataLoader\n",
    "from synthcity.plugins import Plugins\n",
    "from synthcity.utils.reproducibility import enable_reproducible_results\n",
    "import openml\n",
    "from sklearn.model_selection import KFold\n",
    "\n",
    "from metrics import evaluate"
   ]
  },
  {
   "cell_type": "code",
   "execution_count": 11,
   "metadata": {},
   "outputs": [
    {
     "name": "stderr",
     "output_type": "stream",
     "text": [
      "[2025-04-07T14:38:12.368858+0200][25748][CRITICAL] module disabled: c:\\Users\\jlachterberg\\Documents\\EvaluationMetricsSD\\EvaluationMetricsSD\\.conda\\lib\\site-packages\\synthcity\\plugins\\generic\\plugin_goggle.py\n",
      "[2025-04-07T14:38:12.369858+0200][25748][CRITICAL] load failed: module 'synthcity.plugins.generic.plugin_great' has no attribute 'plugin'\n",
      "[2025-04-07T14:38:12.369858+0200][25748][CRITICAL] load failed: module 'synthcity.plugins.generic.plugin_great' has no attribute 'plugin'\n",
      "[2025-04-07T14:38:12.370859+0200][25748][CRITICAL] module plugin_great load failed\n"
     ]
    },
    {
     "name": "stdout",
     "output_type": "stream",
     "text": [
      "fold: 0\n",
      "Initial accuracy is 0.652\n",
      "Iteration number 1 reached accuracy of 0.459.\n",
      "Epoch 1/10\n",
      "\u001b[1m331/331\u001b[0m \u001b[32m━━━━━━━━━━━━━━━━━━━━\u001b[0m\u001b[37m\u001b[0m \u001b[1m2s\u001b[0m 3ms/step - loss: 0.3908\n",
      "Epoch 2/10\n",
      "\u001b[1m331/331\u001b[0m \u001b[32m━━━━━━━━━━━━━━━━━━━━\u001b[0m\u001b[37m\u001b[0m \u001b[1m1s\u001b[0m 3ms/step - loss: 0.3376\n",
      "Epoch 3/10\n",
      "\u001b[1m331/331\u001b[0m \u001b[32m━━━━━━━━━━━━━━━━━━━━\u001b[0m\u001b[37m\u001b[0m \u001b[1m1s\u001b[0m 3ms/step - loss: 0.3348\n",
      "Epoch 4/10\n",
      "\u001b[1m331/331\u001b[0m \u001b[32m━━━━━━━━━━━━━━━━━━━━\u001b[0m\u001b[37m\u001b[0m \u001b[1m1s\u001b[0m 4ms/step - loss: 0.3349\n",
      "Epoch 5/10\n",
      "\u001b[1m331/331\u001b[0m \u001b[32m━━━━━━━━━━━━━━━━━━━━\u001b[0m\u001b[37m\u001b[0m \u001b[1m1s\u001b[0m 4ms/step - loss: 0.3349\n",
      "Epoch 6/10\n",
      "\u001b[1m331/331\u001b[0m \u001b[32m━━━━━━━━━━━━━━━━━━━━\u001b[0m\u001b[37m\u001b[0m \u001b[1m1s\u001b[0m 4ms/step - loss: 0.3345\n",
      "Epoch 7/10\n",
      "\u001b[1m331/331\u001b[0m \u001b[32m━━━━━━━━━━━━━━━━━━━━\u001b[0m\u001b[37m\u001b[0m \u001b[1m1s\u001b[0m 3ms/step - loss: 0.3335\n",
      "Epoch 8/10\n",
      "\u001b[1m331/331\u001b[0m \u001b[32m━━━━━━━━━━━━━━━━━━━━\u001b[0m\u001b[37m\u001b[0m \u001b[1m1s\u001b[0m 3ms/step - loss: 0.3340\n",
      "Epoch 9/10\n",
      "\u001b[1m331/331\u001b[0m \u001b[32m━━━━━━━━━━━━━━━━━━━━\u001b[0m\u001b[37m\u001b[0m \u001b[1m2s\u001b[0m 5ms/step - loss: 0.3344\n",
      "Epoch 10/10\n",
      "\u001b[1m331/331\u001b[0m \u001b[32m━━━━━━━━━━━━━━━━━━━━\u001b[0m\u001b[37m\u001b[0m \u001b[1m1s\u001b[0m 4ms/step - loss: 0.3339\n"
     ]
    },
    {
     "name": "stderr",
     "output_type": "stream",
     "text": [
      "[2025-04-07T14:38:36.385775+0200][25748][CRITICAL] module disabled: c:\\Users\\jlachterberg\\Documents\\EvaluationMetricsSD\\EvaluationMetricsSD\\.conda\\lib\\site-packages\\synthcity\\plugins\\generic\\plugin_goggle.py\n",
      "[2025-04-07T14:38:36.386711+0200][25748][CRITICAL] load failed: module 'synthcity.plugins.generic.plugin_great' has no attribute 'plugin'\n",
      "[2025-04-07T14:38:36.387724+0200][25748][CRITICAL] load failed: module 'synthcity.plugins.generic.plugin_great' has no attribute 'plugin'\n",
      "[2025-04-07T14:38:36.388729+0200][25748][CRITICAL] module plugin_great load failed\n"
     ]
    },
    {
     "name": "stdout",
     "output_type": "stream",
     "text": [
      "fold: 1\n",
      "Initial accuracy is 0.644\n",
      "Iteration number 1 reached accuracy of 0.45.\n",
      "Epoch 1/10\n",
      "\u001b[1m333/333\u001b[0m \u001b[32m━━━━━━━━━━━━━━━━━━━━\u001b[0m\u001b[37m\u001b[0m \u001b[1m2s\u001b[0m 3ms/step - loss: 0.3951\n",
      "Epoch 2/10\n",
      "\u001b[1m333/333\u001b[0m \u001b[32m━━━━━━━━━━━━━━━━━━━━\u001b[0m\u001b[37m\u001b[0m \u001b[1m1s\u001b[0m 3ms/step - loss: 0.3394\n",
      "Epoch 3/10\n",
      "\u001b[1m333/333\u001b[0m \u001b[32m━━━━━━━━━━━━━━━━━━━━\u001b[0m\u001b[37m\u001b[0m \u001b[1m1s\u001b[0m 4ms/step - loss: 0.3365\n",
      "Epoch 4/10\n",
      "\u001b[1m333/333\u001b[0m \u001b[32m━━━━━━━━━━━━━━━━━━━━\u001b[0m\u001b[37m\u001b[0m \u001b[1m1s\u001b[0m 4ms/step - loss: 0.3361\n",
      "Epoch 5/10\n",
      "\u001b[1m333/333\u001b[0m \u001b[32m━━━━━━━━━━━━━━━━━━━━\u001b[0m\u001b[37m\u001b[0m \u001b[1m1s\u001b[0m 3ms/step - loss: 0.3358\n",
      "Epoch 6/10\n",
      "\u001b[1m333/333\u001b[0m \u001b[32m━━━━━━━━━━━━━━━━━━━━\u001b[0m\u001b[37m\u001b[0m \u001b[1m1s\u001b[0m 4ms/step - loss: 0.3365\n",
      "Epoch 7/10\n",
      "\u001b[1m333/333\u001b[0m \u001b[32m━━━━━━━━━━━━━━━━━━━━\u001b[0m\u001b[37m\u001b[0m \u001b[1m1s\u001b[0m 3ms/step - loss: 0.3354\n",
      "Epoch 8/10\n",
      "\u001b[1m333/333\u001b[0m \u001b[32m━━━━━━━━━━━━━━━━━━━━\u001b[0m\u001b[37m\u001b[0m \u001b[1m1s\u001b[0m 3ms/step - loss: 0.3352\n",
      "Epoch 9/10\n",
      "\u001b[1m333/333\u001b[0m \u001b[32m━━━━━━━━━━━━━━━━━━━━\u001b[0m\u001b[37m\u001b[0m \u001b[1m1s\u001b[0m 3ms/step - loss: 0.3347\n",
      "Epoch 10/10\n",
      "\u001b[1m333/333\u001b[0m \u001b[32m━━━━━━━━━━━━━━━━━━━━\u001b[0m\u001b[37m\u001b[0m \u001b[1m1s\u001b[0m 3ms/step - loss: 0.3355\n"
     ]
    }
   ],
   "source": [
    "\n",
    "# ---------------------------------\n",
    "# BENCHMARK PARAMETERS\n",
    "\n",
    "generator = \"arf\"\n",
    "metrics = [\n",
    "    \"mmd\",\n",
    "    \"wasserstein\",\n",
    "    \"precision-recall\",\n",
    "    \"authenticity\",\n",
    "    \"domias\"\n",
    "]\n",
    "cv_folds = 2\n",
    "n_init = 1\n",
    "seed = 0\n",
    "enable_reproducible_results(seed)\n",
    "hparams = {}\n",
    "results = {}\n",
    "\n",
    "# load data\n",
    "dataset = openml.datasets.get_dataset(\"Diabetes130US\")\n",
    "X, _, _, _ = dataset.get_data(dataset_format=\"dataframe\")\n",
    "X = X.drop([\"encounter_id\", \"patient_nbr\"], axis=1)\n",
    "\n",
    "X = X[:1000]\n",
    "\n",
    "# ---------------------------------\n",
    "# START BENCHMARKING\n",
    "# perform k fold CV\n",
    "time_start = time.perf_counter()\n",
    "for fold, (train, test) in enumerate(\n",
    "    KFold(n_splits=cv_folds, shuffle=True, random_state=seed).split(X)\n",
    "):\n",
    "    print(f\"fold: {fold}\")\n",
    "    results[f\"fold: {fold}\"] = {}\n",
    "    # get train-test data\n",
    "    X_train = GenericDataLoader(data=X.iloc[train])\n",
    "    X_test = GenericDataLoader(data=X.iloc[test])\n",
    "\n",
    "    # synthesize for multiple initializations\n",
    "    for i in range(n_init):\n",
    "        hparams[\"random_state\"] = i\n",
    "        plugin = Plugins().get(generator, **hparams)\n",
    "        # unconditional generation (we do not consider a specific target feature)\n",
    "        plugin.fit(X_train)\n",
    "        X_syn = plugin.generate(len(test))\n",
    "        # evaluation\n",
    "        results[f\"fold: {fold}\"][f\"init: {i}\"] = evaluate(\n",
    "            X_train.dataframe(),\n",
    "            X_test.dataframe(),\n",
    "            X_syn.dataframe(),\n",
    "            metrics,\n",
    "            random_state=seed,  # we use the same random state for metrics across initializations\n",
    "        )\n",
    "time_end = time.perf_counter()\n",
    "results[\"timer\"] = time_end - time_start\n",
    "# save results\n",
    "if not os.path.exists(\"results\"):\n",
    "    os.makedirs(\"results\")\n",
    "with open(f\"results/{generator}.json\", \"w\") as f:\n",
    "    json.dump(results, f, indent=4)\n"
   ]
  }
 ],
 "metadata": {
  "kernelspec": {
   "display_name": "Python 3",
   "language": "python",
   "name": "python3"
  },
  "language_info": {
   "codemirror_mode": {
    "name": "ipython",
    "version": 3
   },
   "file_extension": ".py",
   "mimetype": "text/x-python",
   "name": "python",
   "nbconvert_exporter": "python",
   "pygments_lexer": "ipython3",
   "version": "3.10.16"
  }
 },
 "nbformat": 4,
 "nbformat_minor": 2
}
